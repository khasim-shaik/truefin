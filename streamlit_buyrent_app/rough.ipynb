{
 "cells": [
  {
   "cell_type": "code",
   "execution_count": 1,
   "metadata": {},
   "outputs": [],
   "source": [
    "import pandas as pd\n",
    "import numpy as np"
   ]
  },
  {
   "cell_type": "code",
   "execution_count": 4,
   "metadata": {},
   "outputs": [],
   "source": [
    "def calculate_amortization_schedule(purchase_price, down_payment, interest_rate):\n",
    "    mortgage_duration_in_years = 30\n",
    "    interest_rate = interest_rate / 100\n",
    "\n",
    "    # Calculate the loan amount\n",
    "    loan_amount = purchase_price - down_payment\n",
    "\n",
    "    # Calculate the number of months in the mortgage term\n",
    "    months = mortgage_duration_in_years * 12\n",
    "\n",
    "    # Calculate the monthly interest rate\n",
    "    monthly_interest_rate = interest_rate / 12\n",
    "\n",
    "    # Calculate the monthly payment using the formula for a fixed-payment loan\n",
    "    monthly_payment = (loan_amount * monthly_interest_rate) / (1 - (1 + monthly_interest_rate) ** (-months))\n",
    "\n",
    "    # Create an empty DataFrame to hold the amortization schedule\n",
    "    columns = ['Month', 'Payment', 'Interest', 'Principal', 'Balance', 'Cumulative Payment', 'Cumulative Principal', 'Cumulative Interest']\n",
    "    schedule = pd.DataFrame(index=range(months+1), columns=columns)\n",
    "\n",
    "    # Set the initial values in the DataFrame\n",
    "    schedule.loc[0] = [0, 0, 0, 0, loan_amount, 0, 0, 0]\n",
    "\n",
    "    # Calculate the interest, principal, and remaining balance for each month\n",
    "    for i in range(1, months+1):\n",
    "        # Calculate the interest for the current month\n",
    "        interest = schedule.loc[i-1]['Balance'] * monthly_interest_rate\n",
    "\n",
    "        # Calculate the principal for the current month\n",
    "        principal = monthly_payment - interest\n",
    "\n",
    "        # Calculate the remaining balance after the current month's payment\n",
    "        balance = schedule.loc[i-1]['Balance'] - principal\n",
    "\n",
    "        # Calculate the cumulative payment, principal, and interest\n",
    "        cumulative_payment = schedule.loc[i-1]['Cumulative Payment'] + monthly_payment\n",
    "        cumulative_principal = schedule.loc[i-1]['Cumulative Principal'] + principal\n",
    "        cumulative_interest = schedule.loc[i-1]['Cumulative Interest'] + interest\n",
    "\n",
    "        # Update the values in the DataFrame for the current month\n",
    "        schedule.loc[i] = [i, monthly_payment, interest, principal, balance, cumulative_payment, cumulative_principal, cumulative_interest]\n",
    "\n",
    "    # Convert the numeric columns to float\n",
    "    schedule = schedule.astype(float)\n",
    "\n",
    "    return schedule"
   ]
  },
  {
   "cell_type": "code",
   "execution_count": 6,
   "metadata": {},
   "outputs": [],
   "source": [
    "schedule= calculate_amortization_schedule(100000, 1000, 4.5)"
   ]
  },
  {
   "cell_type": "code",
   "execution_count": 14,
   "metadata": {},
   "outputs": [
    {
     "data": {
      "text/html": [
       "<div>\n",
       "<style scoped>\n",
       "    .dataframe tbody tr th:only-of-type {\n",
       "        vertical-align: middle;\n",
       "    }\n",
       "\n",
       "    .dataframe tbody tr th {\n",
       "        vertical-align: top;\n",
       "    }\n",
       "\n",
       "    .dataframe thead th {\n",
       "        text-align: right;\n",
       "    }\n",
       "</style>\n",
       "<table border=\"1\" class=\"dataframe\">\n",
       "  <thead>\n",
       "    <tr style=\"text-align: right;\">\n",
       "      <th></th>\n",
       "      <th>Month</th>\n",
       "      <th>Payment</th>\n",
       "      <th>Interest</th>\n",
       "      <th>Principal</th>\n",
       "      <th>Balance</th>\n",
       "      <th>Cumulative Payment</th>\n",
       "      <th>Cumulative Principal</th>\n",
       "      <th>Cumulative Interest</th>\n",
       "    </tr>\n",
       "  </thead>\n",
       "  <tbody>\n",
       "    <tr>\n",
       "      <th>0</th>\n",
       "      <td>0.0</td>\n",
       "      <td>0.000000</td>\n",
       "      <td>0.000000</td>\n",
       "      <td>0.000000</td>\n",
       "      <td>99000.000000</td>\n",
       "      <td>0.000000</td>\n",
       "      <td>0.000000</td>\n",
       "      <td>0.000000</td>\n",
       "    </tr>\n",
       "    <tr>\n",
       "      <th>1</th>\n",
       "      <td>1.0</td>\n",
       "      <td>501.618457</td>\n",
       "      <td>371.250000</td>\n",
       "      <td>130.368457</td>\n",
       "      <td>98869.631543</td>\n",
       "      <td>501.618457</td>\n",
       "      <td>130.368457</td>\n",
       "      <td>371.250000</td>\n",
       "    </tr>\n",
       "    <tr>\n",
       "      <th>2</th>\n",
       "      <td>2.0</td>\n",
       "      <td>501.618457</td>\n",
       "      <td>370.761118</td>\n",
       "      <td>130.857338</td>\n",
       "      <td>98738.774205</td>\n",
       "      <td>1003.236913</td>\n",
       "      <td>261.225795</td>\n",
       "      <td>742.011118</td>\n",
       "    </tr>\n",
       "    <tr>\n",
       "      <th>3</th>\n",
       "      <td>3.0</td>\n",
       "      <td>501.618457</td>\n",
       "      <td>370.270403</td>\n",
       "      <td>131.348053</td>\n",
       "      <td>98607.426151</td>\n",
       "      <td>1504.855370</td>\n",
       "      <td>392.573849</td>\n",
       "      <td>1112.281522</td>\n",
       "    </tr>\n",
       "    <tr>\n",
       "      <th>4</th>\n",
       "      <td>4.0</td>\n",
       "      <td>501.618457</td>\n",
       "      <td>369.777848</td>\n",
       "      <td>131.840609</td>\n",
       "      <td>98475.585543</td>\n",
       "      <td>2006.473827</td>\n",
       "      <td>524.414457</td>\n",
       "      <td>1482.059370</td>\n",
       "    </tr>\n",
       "  </tbody>\n",
       "</table>\n",
       "</div>"
      ],
      "text/plain": [
       "   Month     Payment    Interest   Principal       Balance  \\\n",
       "0    0.0    0.000000    0.000000    0.000000  99000.000000   \n",
       "1    1.0  501.618457  371.250000  130.368457  98869.631543   \n",
       "2    2.0  501.618457  370.761118  130.857338  98738.774205   \n",
       "3    3.0  501.618457  370.270403  131.348053  98607.426151   \n",
       "4    4.0  501.618457  369.777848  131.840609  98475.585543   \n",
       "\n",
       "   Cumulative Payment  Cumulative Principal  Cumulative Interest  \n",
       "0            0.000000              0.000000             0.000000  \n",
       "1          501.618457            130.368457           371.250000  \n",
       "2         1003.236913            261.225795           742.011118  \n",
       "3         1504.855370            392.573849          1112.281522  \n",
       "4         2006.473827            524.414457          1482.059370  "
      ]
     },
     "execution_count": 14,
     "metadata": {},
     "output_type": "execute_result"
    }
   ],
   "source": [
    "schedule.head()"
   ]
  },
  {
   "cell_type": "code",
   "execution_count": 13,
   "metadata": {},
   "outputs": [
    {
     "ename": "AttributeError",
     "evalue": "'DataFrame' object has no attribute 'rows'",
     "output_type": "error",
     "traceback": [
      "\u001b[0;31m---------------------------------------------------------------------------\u001b[0m",
      "\u001b[0;31mAttributeError\u001b[0m                            Traceback (most recent call last)",
      "\u001b[0;32m/var/folders/y1/wxdzwnvs039g37k03crdgf1m0000gn/T/ipykernel_26790/3155760834.py\u001b[0m in \u001b[0;36m?\u001b[0;34m()\u001b[0m\n\u001b[0;32m----> 1\u001b[0;31m \u001b[0;32mfor\u001b[0m \u001b[0mmonth\u001b[0m \u001b[0;32min\u001b[0m \u001b[0mschedule\u001b[0m\u001b[0;34m.\u001b[0m\u001b[0mrows\u001b[0m\u001b[0;34m(\u001b[0m\u001b[0;34m)\u001b[0m\u001b[0;34m:\u001b[0m\u001b[0;34m\u001b[0m\u001b[0;34m\u001b[0m\u001b[0m\n\u001b[0m\u001b[1;32m      2\u001b[0m     \u001b[0mprint\u001b[0m\u001b[0;34m(\u001b[0m\u001b[0mmonth\u001b[0m\u001b[0;34m)\u001b[0m\u001b[0;34m\u001b[0m\u001b[0;34m\u001b[0m\u001b[0m\n",
      "\u001b[0;32m~/side projects/truefin/truefin/lib/python3.10/site-packages/pandas/core/generic.py\u001b[0m in \u001b[0;36m?\u001b[0;34m(self, name)\u001b[0m\n\u001b[1;32m   6292\u001b[0m             \u001b[0;32mand\u001b[0m \u001b[0mname\u001b[0m \u001b[0;32mnot\u001b[0m \u001b[0;32min\u001b[0m \u001b[0mself\u001b[0m\u001b[0;34m.\u001b[0m\u001b[0m_accessors\u001b[0m\u001b[0;34m\u001b[0m\u001b[0;34m\u001b[0m\u001b[0m\n\u001b[1;32m   6293\u001b[0m             \u001b[0;32mand\u001b[0m \u001b[0mself\u001b[0m\u001b[0;34m.\u001b[0m\u001b[0m_info_axis\u001b[0m\u001b[0;34m.\u001b[0m\u001b[0m_can_hold_identifiers_and_holds_name\u001b[0m\u001b[0;34m(\u001b[0m\u001b[0mname\u001b[0m\u001b[0;34m)\u001b[0m\u001b[0;34m\u001b[0m\u001b[0;34m\u001b[0m\u001b[0m\n\u001b[1;32m   6294\u001b[0m         ):\n\u001b[1;32m   6295\u001b[0m             \u001b[0;32mreturn\u001b[0m \u001b[0mself\u001b[0m\u001b[0;34m[\u001b[0m\u001b[0mname\u001b[0m\u001b[0;34m]\u001b[0m\u001b[0;34m\u001b[0m\u001b[0;34m\u001b[0m\u001b[0m\n\u001b[0;32m-> 6296\u001b[0;31m         \u001b[0;32mreturn\u001b[0m \u001b[0mobject\u001b[0m\u001b[0;34m.\u001b[0m\u001b[0m__getattribute__\u001b[0m\u001b[0;34m(\u001b[0m\u001b[0mself\u001b[0m\u001b[0;34m,\u001b[0m \u001b[0mname\u001b[0m\u001b[0;34m)\u001b[0m\u001b[0;34m\u001b[0m\u001b[0;34m\u001b[0m\u001b[0m\n\u001b[0m",
      "\u001b[0;31mAttributeError\u001b[0m: 'DataFrame' object has no attribute 'rows'"
     ]
    }
   ],
   "source": [
    "for month in schedule.rows():\n",
    "    print(month)"
   ]
  },
  {
   "cell_type": "code",
   "execution_count": 16,
   "metadata": {},
   "outputs": [
    {
     "data": {
      "text/plain": [
       "0.0033333333333333335"
      ]
     },
     "execution_count": 16,
     "metadata": {},
     "output_type": "execute_result"
    }
   ],
   "source": [
    "0.04/12.0"
   ]
  },
  {
   "cell_type": "code",
   "execution_count": 9,
   "metadata": {},
   "outputs": [],
   "source": [
    "import pandas as pd\n",
    "\n",
    "def calculate_amortization_schedule(purchase_price, down_payment, interest_rate, mortgage_duration_in_years):\n",
    " \n",
    "    # Calculate the loan amount\n",
    "    loan_amount = purchase_price - down_payment\n",
    "\n",
    "    # Calculate the number of months in the mortgage term\n",
    "    months = mortgage_duration_in_years * 12\n",
    "\n",
    "    # Calculate the monthly interest rate\n",
    "    monthly_interest_rate = interest_rate / 12\n",
    "\n",
    "    # Calculate the monthly payment using the formula for a fixed-payment loan\n",
    "    monthly_payment = (loan_amount * monthly_interest_rate) / (1 - (1 + monthly_interest_rate) ** (-months))\n",
    "\n",
    "    # Create an empty DataFrame to hold the amortization schedule\n",
    "    columns = ['Month', 'Payment', 'Interest', 'Principal', 'Balance', 'Cumulative Payment', 'Cumulative Principal', 'Cumulative Interest']\n",
    "    schedule = pd.DataFrame(index=range(months+1), columns=columns)\n",
    "\n",
    "    # Set the initial values in the DataFrame\n",
    "    schedule.loc[0] = [0, 0, 0, 0, loan_amount, 0, 0, 0]\n",
    "\n",
    "    # Calculate the interest, principal, and remaining balance for each month\n",
    "    for i in range(1, months+1):\n",
    "        # Calculate the interest for the current month\n",
    "        interest = schedule.loc[i-1]['Balance'] * monthly_interest_rate\n",
    "\n",
    "        # Calculate the principal for the current month\n",
    "        principal = monthly_payment - interest\n",
    "\n",
    "        # Calculate the remaining balance after the current month's payment\n",
    "        balance = schedule.loc[i-1]['Balance'] - principal\n",
    "\n",
    "        # Calculate the cumulative payment, principal, and interest\n",
    "        cumulative_payment = schedule.loc[i-1]['Cumulative Payment'] + monthly_payment\n",
    "        cumulative_principal = schedule.loc[i-1]['Cumulative Principal'] + principal\n",
    "        cumulative_interest = schedule.loc[i-1]['Cumulative Interest'] + interest\n",
    "\n",
    "        # Update the values in the DataFrame for the current month\n",
    "        schedule.loc[i] = [i, monthly_payment, interest, principal, balance, cumulative_payment, cumulative_principal, cumulative_interest]\n",
    "\n",
    "    # Convert the numeric columns to float\n",
    "    schedule = schedule.astype(float)\n",
    "\n",
    "    return schedule\n"
   ]
  },
  {
   "cell_type": "code",
   "execution_count": 10,
   "metadata": {},
   "outputs": [
    {
     "name": "stdout",
     "output_type": "stream",
     "text": [
      "     Month      Payment     Interest    Principal       Balance  \\\n",
      "0      0.0     0.000000     0.000000     0.000000  5.000000e+05   \n",
      "1      1.0  2997.752626  2500.000000   497.752626  4.995022e+05   \n",
      "2      2.0  2997.752626  2497.511237   500.241389  4.990020e+05   \n",
      "3      3.0  2997.752626  2495.010030   502.742596  4.984993e+05   \n",
      "4      4.0  2997.752626  2492.496317   505.256309  4.979940e+05   \n",
      "..     ...          ...          ...          ...           ...   \n",
      "356  356.0  2997.752626    73.832644  2923.919982  1.184261e+04   \n",
      "357  357.0  2997.752626    59.213044  2938.539582  8.904069e+03   \n",
      "358  358.0  2997.752626    44.520346  2953.232280  5.950837e+03   \n",
      "359  359.0  2997.752626    29.754184  2967.998441  2.982838e+03   \n",
      "360  360.0  2997.752626    14.914192  2982.838434 -2.289016e-08   \n",
      "\n",
      "     Cumulative Payment  Cumulative Principal  Cumulative Interest  \n",
      "0          0.000000e+00              0.000000             0.000000  \n",
      "1          2.997753e+03            497.752626          2500.000000  \n",
      "2          5.995505e+03            997.994015          4997.511237  \n",
      "3          8.993258e+03           1500.736610          7492.521267  \n",
      "4          1.199101e+04           2005.992919          9985.017584  \n",
      "..                  ...                   ...                  ...  \n",
      "356        1.067200e+06         488157.391263        579042.543509  \n",
      "357        1.070198e+06         491095.930845        579101.756553  \n",
      "358        1.073195e+06         494049.163125        579146.276898  \n",
      "359        1.076193e+06         497017.161566        579176.031083  \n",
      "360        1.079191e+06         500000.000000        579190.945275  \n",
      "\n",
      "[361 rows x 8 columns]\n"
     ]
    }
   ],
   "source": [
    "# Set the input values\n",
    "interest_rate = 0.06  # 5% interest rate\n",
    "down_payment = 0  # $20,000 down payment\n",
    "purchase_price = 500000  # $300,000 purchase price\n",
    "mortgage_duration_in_years = 30  # 30-year mortgage\n",
    "\n",
    "# Calculate the amortization schedule\n",
    "schedule = calculate_amortization_schedule(purchase_price, down_payment, interest_rate, mortgage_duration_in_years)\n",
    "\n",
    "# Display the schedule\n",
    "print(schedule)\n"
   ]
  },
  {
   "cell_type": "code",
   "execution_count": 11,
   "metadata": {},
   "outputs": [
    {
     "data": {
      "text/plain": [
       "810.8333333333334"
      ]
     },
     "execution_count": 11,
     "metadata": {},
     "output_type": "execute_result"
    }
   ],
   "source": [
    "#calculate 20% of the purchase price\n",
    "twenty_percent_point = purchase_price * 0.2\n",
    "\n",
    "#calculate the financed amount\n",
    "financed_amount = purchase_price - down_payment\n",
    "\n",
    "#calculate the number of years to pay off 20% of the financed amount using the column cumulative principal in the amortization schedule\n",
    "years_to_pay_off_20_percent = sum(schedule.loc[schedule['Cumulative Principal'] <= twenty_percent_point, 'Month']) / 12\n",
    "\n",
    "\n",
    "# return the number of years to pay off 20% of the financed amount\n",
    "years_to_pay_off_20_percent"
   ]
  },
  {
   "cell_type": "code",
   "execution_count": 16,
   "metadata": {},
   "outputs": [
    {
     "data": {
      "text/plain": [
       "140"
      ]
     },
     "execution_count": 16,
     "metadata": {},
     "output_type": "execute_result"
    }
   ],
   "source": [
    "schedule.loc[schedule['Cumulative Principal'] <= twenty_percent_point, 'Month'].count()"
   ]
  },
  {
   "cell_type": "code",
   "execution_count": 18,
   "metadata": {},
   "outputs": [
    {
     "data": {
      "text/plain": [
       "486816.9504620123"
      ]
     },
     "execution_count": 18,
     "metadata": {},
     "output_type": "execute_result"
    }
   ],
   "source": [
    "sum([ 1000*12 * ((1 + 0.02) ** i) for i in range(30)])"
   ]
  }
 ],
 "metadata": {
  "kernelspec": {
   "display_name": "venv_buyvrent",
   "language": "python",
   "name": "python3"
  },
  "language_info": {
   "codemirror_mode": {
    "name": "ipython",
    "version": 3
   },
   "file_extension": ".py",
   "mimetype": "text/x-python",
   "name": "python",
   "nbconvert_exporter": "python",
   "pygments_lexer": "ipython3",
   "version": "3.10.10"
  },
  "orig_nbformat": 4
 },
 "nbformat": 4,
 "nbformat_minor": 2
}
